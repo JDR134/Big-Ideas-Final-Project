{
 "cells": [
  {
   "cell_type": "code",
   "execution_count": 1,
   "metadata": {},
   "outputs": [
    {
     "data": {
      "text/html": [
       "<div>\n",
       "<style scoped>\n",
       "    .dataframe tbody tr th:only-of-type {\n",
       "        vertical-align: middle;\n",
       "    }\n",
       "\n",
       "    .dataframe tbody tr th {\n",
       "        vertical-align: top;\n",
       "    }\n",
       "\n",
       "    .dataframe thead th {\n",
       "        text-align: right;\n",
       "    }\n",
       "</style>\n",
       "<table border=\"1\" class=\"dataframe\">\n",
       "  <thead>\n",
       "    <tr style=\"text-align: right;\">\n",
       "      <th></th>\n",
       "      <th>Neighborhoods</th>\n",
       "      <th>Values</th>\n",
       "    </tr>\n",
       "  </thead>\n",
       "  <tbody>\n",
       "    <tr>\n",
       "      <th>0</th>\n",
       "      <td>DOWNTOWN</td>\n",
       "      <td>20</td>\n",
       "    </tr>\n",
       "    <tr>\n",
       "      <th>4</th>\n",
       "      <td>NORTH SIDE</td>\n",
       "      <td>20</td>\n",
       "    </tr>\n",
       "    <tr>\n",
       "      <th>2</th>\n",
       "      <td>UPTOWN</td>\n",
       "      <td>19</td>\n",
       "    </tr>\n",
       "    <tr>\n",
       "      <th>3</th>\n",
       "      <td>SOUTH SIDE</td>\n",
       "      <td>14</td>\n",
       "    </tr>\n",
       "    <tr>\n",
       "      <th>8</th>\n",
       "      <td>HILL DISTRICT</td>\n",
       "      <td>11</td>\n",
       "    </tr>\n",
       "    <tr>\n",
       "      <th>6</th>\n",
       "      <td>EAST LIBERTY</td>\n",
       "      <td>7</td>\n",
       "    </tr>\n",
       "    <tr>\n",
       "      <th>5</th>\n",
       "      <td>OAKLAND</td>\n",
       "      <td>5</td>\n",
       "    </tr>\n",
       "    <tr>\n",
       "      <th>9</th>\n",
       "      <td>HOMEWOOD</td>\n",
       "      <td>4</td>\n",
       "    </tr>\n",
       "    <tr>\n",
       "      <th>10</th>\n",
       "      <td>LAWRENCEVILLE</td>\n",
       "      <td>4</td>\n",
       "    </tr>\n",
       "    <tr>\n",
       "      <th>60</th>\n",
       "      <td>DUQUESNE</td>\n",
       "      <td>3</td>\n",
       "    </tr>\n",
       "  </tbody>\n",
       "</table>\n",
       "</div>"
      ],
      "text/plain": [
       "    Neighborhoods  Values\n",
       "0        DOWNTOWN      20\n",
       "4      NORTH SIDE      20\n",
       "2          UPTOWN      19\n",
       "3      SOUTH SIDE      14\n",
       "8   HILL DISTRICT      11\n",
       "6    EAST LIBERTY       7\n",
       "5         OAKLAND       5\n",
       "9        HOMEWOOD       4\n",
       "10  LAWRENCEVILLE       4\n",
       "60       DUQUESNE       3"
      ]
     },
     "execution_count": 1,
     "metadata": {},
     "output_type": "execute_result"
    }
   ],
   "source": [
    "import pandas as pd\n",
    "import numpy as np\n",
    "%matplotlib inline\n",
    "import matplotlib.pyplot as plt\n",
    "\n",
    "services = pd.read_csv(\"services.csv\")\n",
    "\n",
    "neighborhoodDictionary = {}\n",
    "\n",
    "neighborhoods = pd.DataFrame(services, columns=['neighborhood'])\n",
    "\n",
    "for i in range(len(neighborhoods)):\n",
    "    if neighborhoods.loc[i, 'neighborhood'] != \"Unknown\":\n",
    "        if neighborhoods.loc[i, 'neighborhood'].upper() not in neighborhoodDictionary:\n",
    "            neighborhoodDictionary[neighborhoods.loc[i, 'neighborhood'].upper()] = 1\n",
    "        else:\n",
    "            neighborhoodDictionary[neighborhoods.loc[i, 'neighborhood'].upper()] += 1\n",
    "neighborhoodDictionary.pop('WILKINSBURG')\n",
    "neighborhoodDictionary.pop(\"MCKEESPORT\")\n",
    "neighborhoodDictionary.pop(\"MCKEES ROCKS\")\n",
    "neighborhoodDictionary.pop(\"BRADDOCK\")\n",
    "neighborhoodDictionary.pop(\"SWISSVALE\")\n",
    "neighborhoodDictionary.pop(\"NATRONA HEIGHTS\")\n",
    "neighborhoodsValues = pd.DataFrame(list(neighborhoodDictionary.items()), columns=['Neighborhoods', 'Values'])\n",
    "final = neighborhoodsValues.sort_values(by=['Values'], ascending=False)\n",
    "final.head(10) \n"
   ]
  },
  {
   "cell_type": "code",
   "execution_count": 13,
   "metadata": {},
   "outputs": [
    {
     "name": "stdout",
     "output_type": "stream",
     "text": [
      "{'DOWNTOWN': 20, 'NORTH SIDE': 20, 'UPTOWN': 19, 'SOUTH SIDE': 14, 'HILL DISTRICT': 11, 'EAST LIBERTY': 7, 'OAKLAND': 5, 'HOMEWOOD': 4, 'LAWRENCEVILLE': 4, 'LARIMER': 3}\n"
     ]
    },
    {
     "data": {
      "image/png": "[encoded data removed]",
      "text/plain": [
       "<Figure size 432x288 with 1 Axes>"
      ]
     },
     "metadata": {
      "needs_background": "light"
     },
     "output_type": "display_data"
    }
   ],
   "source": [
    "sortedNeighborhoodDictionary = dict(sorted(neighborhoodDictionary.items(), key=lambda x:x[1], reverse=True))\n",
    "neighborhoodTopTen = {k: sortedNeighborhoodDictionary[k] for k in list(sortedNeighborhoodDictionary)[:10]}\n",
    "print(neighborhoodTopTen)\n",
    "keys = neighborhoodTopTen.keys()\n",
    "values = neighborhoodTopTen.values()\n",
    "plt.bar(keys,values)\n",
    "plt.xticks(rotation='vertical')\n",
    "plt.show()"
   ]
  }
 ],
 "metadata": {
  "kernelspec": {
   "display_name": "Python 3",
   "language": "python",
   "name": "python3"
  },
  "language_info": {
   "codemirror_mode": {
    "name": "ipython",
    "version": 3
   },
   "file_extension": ".py",
   "mimetype": "text/x-python",
   "name": "python",
   "nbconvert_exporter": "python",
   "pygments_lexer": "ipython3",
   "version": "3.8.3"
  }
 },
 "nbformat": 4,
 "nbformat_minor": 4
}
