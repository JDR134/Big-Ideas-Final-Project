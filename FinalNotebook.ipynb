{
 "cells": [
  {
   "cell_type": "markdown",
   "metadata": {},
   "source": [
    "# The best Neighborhood in Pittsburgh (For Squatting)\n",
    "\n",
    "While deliberating on what we could be used to define the best neighborhood in Pittbsurgh, we came to the conlucison that if we were ever to end up in a disadvantaged position and school did not work out for us, we should know where the best place for us to hide out would be. We wanted to know where we could go if we had no other options. With the data we had available to us we decided to analyze the Liklihood of Arrest for Trespassing, the Social Services available to us in a given neighborhood, and the Available Properties that could possibly be available for someone to squat in. Through weighing all these metrics would could cross reference what would be the best neighborhood for access to food, shelter, and avoiding law enforcement. \n"
   ]
  },
  {
   "cell_type": "markdown",
   "metadata": {},
   "source": [
    "## Access to Social Services\n",
    "While living wihtout a reliable support network its important to know what services are available to you that are provided by both governement and charitable foundations. This data set archived all Social Services available throguhout the City of Pittsbrugh and Alleghany County. For this set we organized every available service by the neighborhood they were in and ranked them from highest to lowest. As this data set contained data from outside the city, after the data was sorted we removed any instances from neighborhoods not in the city limits. "
   ]
  },
  {
   "cell_type": "code",
   "execution_count": null,
   "metadata": {},
   "outputs": [],
   "source": []
  },
  {
   "cell_type": "markdown",
   "metadata": {},
   "source": [
    "## Available Properties\n",
    "This data set shows all publiclly available proprties in Pittsburgh that are owned by the City and up for sale. THe thought behind using this data is that the city has taken ownership of these proprties after forecloseres and evictions so any proprty listed here is likley to be vacant. Therefore if a neighborhood has a high amount of listings it can make it easier for someone to move between proprties and live in good a good shelter while evading detection or causing issues for residents. For this data we did not take into account total size of a given neighborhood as we decided what was more important was total availability and not strict density. "
   ]
  },
  {
   "cell_type": "code",
   "execution_count": null,
   "metadata": {},
   "outputs": [],
   "source": []
  },
  {
   "cell_type": "markdown",
   "metadata": {},
   "source": [
    "## Likelihood of Arrest\n",
    "When evaluating the best neighborhood for suatting of course something to take into consideration is the likleihood of being arrested for trespassing. The data set used for this metric was the total arrests made by Pittsburgh police and their infraction type and location. To sort this data we first tallied up all the arrests made in a given neighborhood and then tallied up any arrests made for trespassing of any kind. With these two we then checked what percentage of the total arrests made in a neighborhood was for trespassing and ranked the neighborhoods from lowest to highest. "
   ]
  },
  {
   "cell_type": "code",
   "execution_count": null,
   "metadata": {},
   "outputs": [],
   "source": []
  },
  {
   "cell_type": "markdown",
   "metadata": {},
   "source": [
    "## Conclusions\n"
   ]
  }
 ],
 "metadata": {
  "kernelspec": {
   "display_name": "Python 3",
   "language": "python",
   "name": "python3"
  },
  "language_info": {
   "codemirror_mode": {
    "name": "ipython",
    "version": 3
   },
   "file_extension": ".py",
   "mimetype": "text/x-python",
   "name": "python",
   "nbconvert_exporter": "python",
   "pygments_lexer": "ipython3",
   "version": "3.8.3"
  }
 },
 "nbformat": 4,
 "nbformat_minor": 4
}
