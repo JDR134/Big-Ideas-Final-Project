{
 "cells": [
  {
   "cell_type": "code",
   "execution_count": 37,
   "metadata": {},
   "outputs": [],
   "source": [
    "import pandas as pd\n"
   ]
  },
  {
   "cell_type": "code",
   "execution_count": 38,
   "metadata": {},
   "outputs": [
    {
     "name": "stdout",
     "output_type": "stream",
     "text": [
      "   INCIDENTNEIGHBORHOOD  TRESPASS_ARRESTS  TOTAL_ARRESTS  PERCENT_TRESPASS\n",
      "89         Outside City                 1            310          0.322581\n",
      "90    Arlington Heights                 1            153          0.653595\n",
      "80           Upper Hill                 4            365          1.095890\n",
      "87              Windgap                 2            123          1.626016\n",
      "79             West End                 5            281          1.779359\n",
      "..                  ...               ...            ...               ...\n",
      "85    Central Northside                 2             23          8.695652\n",
      "57         Mount Oliver                11            123          8.943089\n",
      "16      Central Oakland                48            512          9.375000\n",
      "6              Fineview                86            790         10.886076\n",
      "2           North Shore               155            803         19.302615\n",
      "\n",
      "[93 rows x 4 columns]\n"
     ]
    }
   ],
   "source": [
    "def trespass_data(input_csv_path):\n",
    "    df = pd.read_csv(input_csv_path)\n",
    "\n",
    "    trespass_df = df[df['OFFENSES'].str.contains('TRESPASS', case=False, na=False)]\n",
    "    trespass_counts = trespass_df['INCIDENTNEIGHBORHOOD'].value_counts().reset_index()\n",
    "    trespass_counts.columns = ['INCIDENTNEIGHBORHOOD', 'TRESPASS_ARRESTS']\n",
    "    total_arrests = df['INCIDENTNEIGHBORHOOD'].value_counts().reset_index()\n",
    "    total_arrests.columns = ['INCIDENTNEIGHBORHOOD', 'TOTAL_ARRESTS']\n",
    "\n",
    "    result_df = pd.merge(trespass_counts, total_arrests, on='INCIDENTNEIGHBORHOOD', how='left')\n",
    "\n",
    "    result_df['PERCENT_TRESPASS'] = (result_df['TRESPASS_ARRESTS'] / result_df['TOTAL_ARRESTS']) * 100\n",
    "    result_df.sort_values(by='PERCENT_TRESPASS', inplace=True)\n",
    "    print(result_df)\n",
    "input_csv_path = 'Final Project - Arrests/arrests.csv'\n",
    "\n",
    "trespass_data(input_csv_path)"
   ]
  },
  {
   "cell_type": "code",
   "execution_count": null,
   "metadata": {},
   "outputs": [],
   "source": []
  },
  {
   "cell_type": "code",
   "execution_count": null,
   "metadata": {},
   "outputs": [],
   "source": []
  }
 ],
 "metadata": {
  "kernelspec": {
   "display_name": "Python 3",
   "language": "python",
   "name": "python3"
  },
  "language_info": {
   "codemirror_mode": {
    "name": "ipython",
    "version": 3
   },
   "file_extension": ".py",
   "mimetype": "text/x-python",
   "name": "python",
   "nbconvert_exporter": "python",
   "pygments_lexer": "ipython3",
   "version": "3.8.3"
  }
 },
 "nbformat": 4,
 "nbformat_minor": 4
}
